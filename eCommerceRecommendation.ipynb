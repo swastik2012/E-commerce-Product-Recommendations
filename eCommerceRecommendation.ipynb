import pandas as pd
import numpy as np
from sklearn.metrics.pairwise import cosine_similarity

# Sample product Data with genres and ratings

product_data = {
    'product_id' : [1, 2, 3, 4, 5],
    'title' : ['prod a', 'prod b', 'prod c', 'prod d', 'prod e'],
    'department' : ['elctronics', 'fashion', 'toys', 'stationary', 'soaps']
}

# Sample user ratings data
ratings_data = {
    'user_id': [1, 1, 2, 2, 3],
    'product_id': [1, 2, 3, 4, 5],
    'rating': [5, 4, 4, 3, 5]
}

# Convert product and ratings data to pandas DataFrame
product_df = pd.DataFrame(product_data)
ratings_df = pd.DataFrame(ratings_data)

# Create a user product rating metrix
user_prod_ratings = ratings_df.pivot(index = 'user_id',
                                      columns = 'product_id',
                                      values = 'rating').fillna(0)
print(user_prod_ratings)
# Calculate product similarities based on generes
generes_similarity = cosine_similarity(user_prod_ratings.values.T)
print(generes_similarity)

# Function to get product recommendations based on ratings
def get_prod_recommendations(product_id, num_recommendations=5):
  similar_products = list(enumerate(generes_similarity[product_id]))
  sorted_similar_products = sorted(similar_products, key=lambda x: x[1],
                                 reverse = True)
  recommended_products = []
  for product in sorted_similar_products[1:num_recommendations + 1]:
    product_id, _ = product
    recommended_products.append(product_df.loc[product_df['product_id'] == product_id, 'title'].values[0])
  return recommended_products

# Sample user's product ratings
user_id = 1

# Get unrated product for the user
unrated_products = [product_id for product_id in product_df['product_id'].values
                  if product_id not in user_prod_ratings.columns]

# Get product recommendations for the user
recommended_products = get_prod_recommendations(product_id=1, num_recommendations=3)

print('Recommended products for user {} are: {}'.format(user_id, recommended_products))
